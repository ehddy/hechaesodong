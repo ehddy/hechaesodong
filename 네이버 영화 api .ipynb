{
 "cells": [
  {
   "cell_type": "code",
   "execution_count": 45,
   "id": "491f861a",
   "metadata": {},
   "outputs": [],
   "source": [
    "import requests\n",
    "import sys\n",
    "import os\n",
    "import pandas as pd"
   ]
  },
  {
   "cell_type": "code",
   "execution_count": 24,
   "id": "f196a760",
   "metadata": {},
   "outputs": [],
   "source": [
    "# 네이버 영화 API 키 값\n",
    "# https://developers.naver.com/docs/serviceapi/search/movie/movie.md\n",
    "client_id = \"1RGvyoAxF5N8Qr9QzheE\"\n",
    "client_secret = \"bzGEIOEh7i\"\n",
    "\n",
    "# 원하는 영화 제목 \n",
    "movie = '외계+인' \n",
    "header_params = {\"X-Naver-Client-Id\":client_id, \"X-Naver-Client-Secret\":client_secret}\n",
    "url = 'https://openapi.naver.com/v1/search/movie.json?query={}'.format(movie)\n",
    "res = requests.get(url, headers=header_params)\n",
    "data = res.json()"
   ]
  },
  {
   "cell_type": "code",
   "execution_count": 25,
   "id": "e032d244",
   "metadata": {},
   "outputs": [
    {
     "data": {
      "text/plain": [
       "{'lastBuildDate': 'Thu, 21 Jul 2022 23:26:16 +0900',\n",
       " 'total': 69,\n",
       " 'start': 1,\n",
       " 'display': 10,\n",
       " 'items': [{'title': '<b>외계</b>+<b>인</b> 1부',\n",
       "   'link': 'https://movie.naver.com/movie/bi/mi/basic.nhn?code=192151',\n",
       "   'image': 'https://ssl.pstatic.net/imgmovie/mdi/mit110/1921/192151_P38_182401.jpg',\n",
       "   'subtitle': 'Alienoid',\n",
       "   'pubDate': '2022',\n",
       "   'director': '최동훈|',\n",
       "   'actor': '김태리|류준열|김우빈|소지섭|염정아|조우진|김의성|',\n",
       "   'userRating': '7.04'},\n",
       "  {'title': '블래스티드: 친구들 vs <b>외계인</b>',\n",
       "   'link': 'https://movie.naver.com/movie/bi/mi/basic.nhn?code=218201',\n",
       "   'image': 'https://ssl.pstatic.net/imgmovie/mdi/mit110/2182/218201_P01_115656.jpg',\n",
       "   'subtitle': 'Blasted',\n",
       "   'pubDate': '2022',\n",
       "   'director': '마틴 소피에달|',\n",
       "   'actor': '프레드릭 스콕스러드|인가르 헬게 김레|',\n",
       "   'userRating': '0.00'},\n",
       "  {'title': '아빠는 <b>외계인</b>',\n",
       "   'link': 'https://movie.naver.com/movie/bi/mi/basic.nhn?code=216840',\n",
       "   'image': 'https://ssl.pstatic.net/imgmovie/mdi/mit110/2168/216840_P01_174041.jpg',\n",
       "   'subtitle': 'My Daddy is an Alien',\n",
       "   'pubDate': '2022',\n",
       "   'director': '박주희|',\n",
       "   'actor': '박준면|노재원|',\n",
       "   'userRating': '0.00'},\n",
       "  {'title': '<b>외계인</b> 아티스트',\n",
       "   'link': 'https://movie.naver.com/movie/bi/mi/basic.nhn?code=218496',\n",
       "   'image': 'https://ssl.pstatic.net/imgmovie/mdi/mit110/2184/218496_P01_095743.png',\n",
       "   'subtitle': 'Alien Artist',\n",
       "   'pubDate': '2021',\n",
       "   'director': '호야 세이요|',\n",
       "   'actor': '',\n",
       "   'userRating': '0.00'},\n",
       "  {'title': '임신 정복 초미녀 <b>외계인</b>',\n",
       "   'link': 'https://movie.naver.com/movie/bi/mi/basic.nhn?code=195231',\n",
       "   'image': 'https://ssl.pstatic.net/imgmovie/mdi/mit110/1952/195231_P01_111150.jpg',\n",
       "   'subtitle': '',\n",
       "   'pubDate': '2020',\n",
       "   'director': '히무 롯쿠|',\n",
       "   'actor': '',\n",
       "   'userRating': '0.00'},\n",
       "  {'title': '<b>외계인</b> 빈',\n",
       "   'link': 'https://movie.naver.com/movie/bi/mi/basic.nhn?code=198467',\n",
       "   'image': 'https://ssl.pstatic.net/imgmovie/mdi/mit110/1984/198467_P01_151716.jpg',\n",
       "   'subtitle': 'B&amp;#236;nh',\n",
       "   'pubDate': '2020',\n",
       "   'director': '오스틴 팜|',\n",
       "   'actor': '',\n",
       "   'userRating': '0.00'},\n",
       "  {'title': '숀더쉽 더 무비: 꼬마 <b>외계인</b> 룰라!',\n",
       "   'link': 'https://movie.naver.com/movie/bi/mi/basic.nhn?code=190026',\n",
       "   'image': 'https://ssl.pstatic.net/imgmovie/mdi/mit110/1900/190026_P28_105800.jpg',\n",
       "   'subtitle': 'A Shaun the Sheep Movie: Farmageddon',\n",
       "   'pubDate': '2019',\n",
       "   'director': '윌 베처|리처드 펠런|',\n",
       "   'actor': '저스틴 플레쳐|아멜리아 비테일|',\n",
       "   'userRating': '9.25'},\n",
       "  {'title': '이 안에 <b>외계인</b>이 있다',\n",
       "   'link': 'https://movie.naver.com/movie/bi/mi/basic.nhn?code=194889',\n",
       "   'image': 'https://ssl.pstatic.net/imgmovie/mdi/mit110/1948/194889_P13_111359.jpg',\n",
       "   'subtitle': 'There is an Alien Here',\n",
       "   'pubDate': '2019',\n",
       "   'director': '최은종|',\n",
       "   'actor': '조병규|배누리|이현웅|태항호|윤진영|전재형|김규종|윤재|',\n",
       "   'userRating': '7.02'},\n",
       "  {'title': '인류멸망 : <b>외계인</b>이 주는 마지막 기회',\n",
       "   'link': 'https://movie.naver.com/movie/bi/mi/basic.nhn?code=144076',\n",
       "   'image': 'https://ssl.pstatic.net/imgmovie/mdi/mit110/1440/144076_P02_094857.jpg',\n",
       "   'subtitle': 'Await Further Instructions',\n",
       "   'pubDate': '2018',\n",
       "   'director': '자니 키보키안|',\n",
       "   'actor': '데이빗 브래들리|아비게일 크루텐든|홀리 웨스턴|샘 기틴스|그랜트 마스터스|니르자 나이크|',\n",
       "   'userRating': '4.35'},\n",
       "  {'title': '<b>외계인</b> 지구침공',\n",
       "   'link': 'https://movie.naver.com/movie/bi/mi/basic.nhn?code=181144',\n",
       "   'image': 'https://ssl.pstatic.net/imgmovie/mdi/mit110/1811/181144_P03_112209.jpg',\n",
       "   'subtitle': 'Alien Invasion',\n",
       "   'pubDate': '2018',\n",
       "   'director': '마크 카레트|',\n",
       "   'actor': '안드레아 과스크|조 만존|',\n",
       "   'userRating': '0.00'}]}"
      ]
     },
     "execution_count": 25,
     "metadata": {},
     "output_type": "execute_result"
    }
   ],
   "source": [
    "data"
   ]
  },
  {
   "cell_type": "code",
   "execution_count": 46,
   "id": "7508f43d",
   "metadata": {},
   "outputs": [],
   "source": [
    "# 전처리 \n",
    "title = data['items'][0]['title'].replace('<b>', \"\").replace('</b>', '')\n",
    "\n",
    "# 나중에 리뷰 데이터 뽑을 때 사용하 링크\n",
    "link = data['items'][0]['link']\n",
    "date = data['items'][0]['pubDate']\n",
    "director = data['items'][0]['director'].split('|')[0]\n",
    "actor = data['items'][0]['actor'].split('|')[:-1]\n",
    "\n",
    "# 평점(중요)\n",
    "rating = float(data['items'][0]['userRating'])\n",
    "\n",
    "# 데이터 프레임 형성 \n",
    "df = pd.DataFrame([title, link, date, director, actor, rating]).T\n",
    "df.columns=['영화 제목', '네이버 링크', '개봉 년도', '감독', '출연진', '평점']"
   ]
  },
  {
   "cell_type": "code",
   "execution_count": 47,
   "id": "3a2a594a",
   "metadata": {},
   "outputs": [
    {
     "data": {
      "text/html": [
       "<div>\n",
       "<style scoped>\n",
       "    .dataframe tbody tr th:only-of-type {\n",
       "        vertical-align: middle;\n",
       "    }\n",
       "\n",
       "    .dataframe tbody tr th {\n",
       "        vertical-align: top;\n",
       "    }\n",
       "\n",
       "    .dataframe thead th {\n",
       "        text-align: right;\n",
       "    }\n",
       "</style>\n",
       "<table border=\"1\" class=\"dataframe\">\n",
       "  <thead>\n",
       "    <tr style=\"text-align: right;\">\n",
       "      <th></th>\n",
       "      <th>영화 제목</th>\n",
       "      <th>네이버 링크</th>\n",
       "      <th>개봉 년도</th>\n",
       "      <th>감독</th>\n",
       "      <th>출연진</th>\n",
       "      <th>평점</th>\n",
       "    </tr>\n",
       "  </thead>\n",
       "  <tbody>\n",
       "    <tr>\n",
       "      <th>0</th>\n",
       "      <td>외계+인 1부</td>\n",
       "      <td>https://movie.naver.com/movie/bi/mi/basic.nhn?...</td>\n",
       "      <td>2022</td>\n",
       "      <td>최동훈</td>\n",
       "      <td>[김태리, 류준열, 김우빈, 소지섭, 염정아, 조우진, 김의성]</td>\n",
       "      <td>7.04</td>\n",
       "    </tr>\n",
       "  </tbody>\n",
       "</table>\n",
       "</div>"
      ],
      "text/plain": [
       "     영화 제목                                             네이버 링크 개봉 년도   감독  \\\n",
       "0  외계+인 1부  https://movie.naver.com/movie/bi/mi/basic.nhn?...  2022  최동훈   \n",
       "\n",
       "                                   출연진    평점  \n",
       "0  [김태리, 류준열, 김우빈, 소지섭, 염정아, 조우진, 김의성]  7.04  "
      ]
     },
     "execution_count": 47,
     "metadata": {},
     "output_type": "execute_result"
    }
   ],
   "source": [
    "df"
   ]
  },
  {
   "cell_type": "code",
   "execution_count": null,
   "id": "26ed7043",
   "metadata": {},
   "outputs": [],
   "source": []
  }
 ],
 "metadata": {
  "kernelspec": {
   "display_name": "Python 3 (ipykernel)",
   "language": "python",
   "name": "python3"
  },
  "language_info": {
   "codemirror_mode": {
    "name": "ipython",
    "version": 3
   },
   "file_extension": ".py",
   "mimetype": "text/x-python",
   "name": "python",
   "nbconvert_exporter": "python",
   "pygments_lexer": "ipython3",
   "version": "3.9.7"
  }
 },
 "nbformat": 4,
 "nbformat_minor": 5
}
